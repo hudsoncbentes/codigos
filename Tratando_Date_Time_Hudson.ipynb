{
  "nbformat": 4,
  "nbformat_minor": 0,
  "metadata": {
    "colab": {
      "name": "Tratando Date Time - Hudson.ipynb",
      "provenance": [],
      "authorship_tag": "ABX9TyOReaa9pjxj3J30fLRsfxjb",
      "include_colab_link": true
    },
    "kernelspec": {
      "name": "python3",
      "display_name": "Python 3"
    },
    "language_info": {
      "name": "python"
    }
  },
  "cells": [
    {
      "cell_type": "markdown",
      "metadata": {
        "id": "view-in-github",
        "colab_type": "text"
      },
      "source": [
        "<a href=\"https://colab.research.google.com/github/hudsoncbentes/codigos/blob/main/Tratando_Date_Time_Hudson.ipynb\" target=\"_parent\"><img src=\"https://colab.research.google.com/assets/colab-badge.svg\" alt=\"Open In Colab\"/></a>"
      ]
    },
    {
      "cell_type": "markdown",
      "source": [
        "Tratando Date Time - Hudson"
      ],
      "metadata": {
        "id": "UdOQG6nWezSZ"
      }
    },
    {
      "cell_type": "code",
      "source": [
        "from datetime import datetime"
      ],
      "metadata": {
        "id": "Bl35d-nDe2im"
      },
      "execution_count": 3,
      "outputs": []
    },
    {
      "cell_type": "code",
      "source": [
        "at = str(datetime.today()).split(\"-\")"
      ],
      "metadata": {
        "id": "AB2GI6nve6LQ"
      },
      "execution_count": 24,
      "outputs": []
    },
    {
      "cell_type": "code",
      "source": [
        "print(at)"
      ],
      "metadata": {
        "colab": {
          "base_uri": "https://localhost:8080/"
        },
        "id": "ZHzbGHqhe8Sg",
        "outputId": "03b6cb42-1164-43c6-e151-3e001e293f24"
      },
      "execution_count": 25,
      "outputs": [
        {
          "output_type": "stream",
          "name": "stdout",
          "text": [
            "['2022', '03', '24 19:57:14.800508']\n"
          ]
        }
      ]
    },
    {
      "cell_type": "code",
      "source": [
        "(rf\"{at[0]}-{at[1]}-{at[2]}\")"
      ],
      "metadata": {
        "colab": {
          "base_uri": "https://localhost:8080/",
          "height": 35
        },
        "id": "5VDmFQKEfPaB",
        "outputId": "692718d1-06e5-4d3c-dc50-70e68040f32d"
      },
      "execution_count": 28,
      "outputs": [
        {
          "output_type": "execute_result",
          "data": {
            "text/plain": [
              "'2022-03-24 19:57:14.800508'"
            ],
            "application/vnd.google.colaboratory.intrinsic+json": {
              "type": "string"
            }
          },
          "metadata": {},
          "execution_count": 28
        }
      ]
    }
  ]
}