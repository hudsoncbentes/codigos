{
  "nbformat": 4,
  "nbformat_minor": 0,
  "metadata": {
    "colab": {
      "name": "String data em Datetime - hudson.ipynb",
      "provenance": [],
      "collapsed_sections": [],
      "authorship_tag": "ABX9TyObo24EtxFGPrLgA1i1qaks",
      "include_colab_link": true
    },
    "kernelspec": {
      "name": "python3",
      "display_name": "Python 3"
    },
    "language_info": {
      "name": "python"
    }
  },
  "cells": [
    {
      "cell_type": "markdown",
      "metadata": {
        "id": "view-in-github",
        "colab_type": "text"
      },
      "source": [
        "<a href=\"https://colab.research.google.com/github/hudsoncbentes/codigos/blob/main/String_data_em_Datetime_hudson.ipynb\" target=\"_parent\"><img src=\"https://colab.research.google.com/assets/colab-badge.svg\" alt=\"Open In Colab\"/></a>"
      ]
    },
    {
      "cell_type": "markdown",
      "source": [
        "# Formatando a String em Data --> Hudson"
      ],
      "metadata": {
        "id": "-ZLgQa6Yr2mP"
      }
    },
    {
      "cell_type": "code",
      "source": [
        "import datetime as dt, datetime"
      ],
      "metadata": {
        "id": "dEFujtSAu2LO"
      },
      "execution_count": 99,
      "outputs": []
    },
    {
      "cell_type": "code",
      "source": [
        "dados = [{'loteatual': '2022-03-23'}]"
      ],
      "metadata": {
        "id": "1qjczPOEr9m8"
      },
      "execution_count": 78,
      "outputs": []
    },
    {
      "cell_type": "code",
      "source": [
        "for datas in dados[-1].values():\n",
        "    dat = datas"
      ],
      "metadata": {
        "id": "okCMOldfsC29"
      },
      "execution_count": 79,
      "outputs": []
    },
    {
      "cell_type": "code",
      "source": [
        "fat = dat.split(\"-\")"
      ],
      "metadata": {
        "id": "GQ406ga15b4e"
      },
      "execution_count": 80,
      "outputs": []
    },
    {
      "cell_type": "code",
      "source": [
        "mes = fat[1]"
      ],
      "metadata": {
        "id": "DEaAILsX5spP"
      },
      "execution_count": 81,
      "outputs": []
    },
    {
      "cell_type": "code",
      "source": [
        "dia = fat[2]"
      ],
      "metadata": {
        "id": "fcbxf_tG51CN"
      },
      "execution_count": 82,
      "outputs": []
    },
    {
      "cell_type": "code",
      "source": [
        "ano = fat[0]"
      ],
      "metadata": {
        "id": "xNFYg5Ni546V"
      },
      "execution_count": 83,
      "outputs": []
    },
    {
      "cell_type": "code",
      "source": [
        "lot = rf'{dia}/{mes}/{ano}'"
      ],
      "metadata": {
        "id": "7OQW91yn6D_G"
      },
      "execution_count": 121,
      "outputs": []
    }
  ]
}